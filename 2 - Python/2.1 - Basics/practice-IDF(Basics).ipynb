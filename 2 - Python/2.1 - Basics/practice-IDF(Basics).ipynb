{
 "cells": [
  {
   "cell_type": "markdown",
   "metadata": {},
   "source": [
    "Python Basics: \n",
    "control statements (1 ex): I take Exercise 3:"
   ]
  },
  {
   "cell_type": "code",
   "execution_count": 4,
   "metadata": {},
   "outputs": [
    {
     "name": "stdout",
     "output_type": "stream",
     "text": [
      "Very cold\n"
     ]
    }
   ],
   "source": [
    "temperature = 0\n",
    "if temperature < 0:\n",
    "    print(\"Below freezing\")\n",
    "elif temperature < 10:\n",
    "    print(\"Very cold\")\n",
    "elif temperature < 20:\n",
    "    print(Chilly)\n",
    "elif temperature < 30:\n",
    "    print(\"Warm\")\n",
    "elif temperature < 40:\n",
    "    print(\"Hot\")\n",
    "else:\n",
    "    print(\"Too hot\")"
   ]
  },
  {
   "cell_type": "code",
   "execution_count": 8,
   "metadata": {},
   "outputs": [
    {
     "name": "stdout",
     "output_type": "stream",
     "text": [
      "1's grade is D.\n"
     ]
    }
   ],
   "source": [
    "student_num = input(\"Please enter a student number:\")\n",
    "tutor_mark = float(input(\"Please enter the student's tutorial mark:\"))\n",
    "test_mark = float(input(\"Please enter the student's test mark:\"))\n",
    "\n",
    "if (tutor_mark + test_mark) / 2 < 40:\n",
    "    grade = \"F\"\n",
    "else:\n",
    "    exam_mark = float(input(\"Please enter the student's final examination mark:\"))\n",
    "    mark = tutor_mark * 1/4 + test_mark * 1/4 + 1/2 * exam_mark\n",
    "\n",
    "    if 80 <= mark <= 100:\n",
    "        grade = \"A\"\n",
    "    elif 70 <= mark < 80:\n",
    "        grade = \"B\"\n",
    "    elif 60 <= mark < 70:\n",
    "        grade = \"C\"\n",
    "    elif 50 <= mark < 60:\n",
    "        grade = \"D\"\n",
    "    else:\n",
    "        grade = \"E\"\n",
    "\n",
    "print(\"%s's grade is %s.\" % (student_num, grade))"
   ]
  },
  {
   "cell_type": "markdown",
   "metadata": {},
   "source": [
    "collections (all examines):\n",
    "Lists: (Exercise 1):"
   ]
  },
  {
   "cell_type": "code",
   "execution_count": 9,
   "metadata": {},
   "outputs": [
    {
     "name": "stdout",
     "output_type": "stream",
     "text": [
      "[1, 3]\n",
      "10\n",
      "7\n"
     ]
    }
   ],
   "source": [
    "a = [1,3,5]\n",
    "b = [2,4,6]\n",
    "\n",
    "c = a + b \n",
    "d = sorted(c)\n",
    "d.reverse()\n",
    "\n",
    "c[3] = 42\n",
    "d.append(10)\n",
    "c.extend([7,8,9])\n",
    "\n",
    "print(c[:2])\n",
    "print(d[-1])\n",
    "print(len(d))\n"
   ]
  },
  {
   "cell_type": "markdown",
   "metadata": {},
   "source": [
    "Tuples: (Exercise 2):"
   ]
  },
  {
   "cell_type": "code",
   "execution_count": 10,
   "metadata": {},
   "outputs": [
    {
     "name": "stdout",
     "output_type": "stream",
     "text": [
      "4\n",
      "[6, 7, 8]\n",
      "8\n"
     ]
    }
   ],
   "source": [
    "a = (1,2,3,4)\n",
    "b = (5,6,7,8)\n",
    "\n",
    "c = a + b\n",
    "d = sorted(c)\n",
    "\n",
    "print(d[3])\n",
    "print(d[-3:])\n",
    "print(len(d))"
   ]
  },
  {
   "cell_type": "markdown",
   "metadata": {},
   "source": [
    "Sets: (Exercise 3):"
   ]
  },
  {
   "cell_type": "code",
   "execution_count": 11,
   "metadata": {},
   "outputs": [
    {
     "name": "stdout",
     "output_type": "stream",
     "text": [
      "6\n"
     ]
    }
   ],
   "source": [
    "a = {1, 2, 3, 4}\n",
    "b = {1, 3, 5, 7}\n",
    "\n",
    "c = a | b\n",
    "d = a - b\n",
    "e = b - a\n",
    "f = a & b\n",
    "g = a ^ b\n",
    "\n",
    "print(len(c))"
   ]
  },
  {
   "cell_type": "markdown",
   "metadata": {},
   "source": [
    "Ranges: (Exercise 4):"
   ]
  },
  {
   "cell_type": "code",
   "execution_count": null,
   "metadata": {},
   "outputs": [],
   "source": [
    "a = range(20)\n",
    "b = range(3,13)\n",
    "c = range(2,51,3)"
   ]
  },
  {
   "cell_type": "markdown",
   "metadata": {},
   "source": [
    "Dictionaries: (Exercise 5):"
   ]
  },
  {
   "cell_type": "code",
   "execution_count": 17,
   "metadata": {},
   "outputs": [
    {
     "name": "stdout",
     "output_type": "stream",
     "text": [
      "+27 555 5689\n",
      "+27 555 5689\n",
      "dict_keys(['Jane Doe', 'John Smith', 'Bob Stone', 'Anna Cooper'])\n",
      "dict_values(['+27 555 1024', '+27 555 6254', '+27 555 5689', '+27 555 3237'])\n"
     ]
    }
   ],
   "source": [
    "directory = {\"Jane Doe\": \"+27 555 5367\",\n",
    "    \"John Smith\": \"+27 555 6254\",\n",
    "    \"Bob Stone\": \"+27 555 5689\",}\n",
    "\n",
    "directory[\"Jane Doe\"] = \"+27 555 1024\"\n",
    "directory[\"Anna Cooper\"] = \"+27 555 3237\"\n",
    "\n",
    "print(directory[\"Bob Stone\"])\n",
    "print(directory.get(\"Bob Stone\", None))\n",
    "\n",
    "print(directory.keys())\n",
    "print(directory.values())"
   ]
  },
  {
   "cell_type": "markdown",
   "metadata": {},
   "source": [
    "Converting between collection types: (Exercise 6):"
   ]
  },
  {
   "cell_type": "code",
   "execution_count": 16,
   "metadata": {},
   "outputs": [
    {
     "name": "stdout",
     "output_type": "stream",
     "text": [
      "5\n",
      "3\n",
      "3\n"
     ]
    }
   ],
   "source": [
    "a = tuple([1,1,2,3,3])\n",
    "\n",
    "b = list(a)\n",
    "print(len(b))\n",
    "\n",
    "c = set(b)\n",
    "print(len(c))\n",
    "\n",
    "d = list(c)\n",
    "print(len(d))\n",
    "\n",
    "e = list(range(1, 11))\n",
    "\n",
    "directory = {\n",
    "    \"Jane Doe\": \"+27 555 5367\",\n",
    "    \"John Smith\": \"+27 555 6254\",\n",
    "    \"Bob Stone\": \"+27 555 5689\",\n",
    "}\n",
    "t = list(directory.items())\n",
    "\n",
    "v = list(directory.values())\n",
    "k = list(directory.keys())\n",
    "\n",
    "s = \"antidisestablishmentarianism\"\n",
    "s2 = \"\".join(sorted(s))\n",
    "\n",
    "w = \"the quick brown fox jumped over the lazy dog\".split()"
   ]
  },
  {
   "cell_type": "markdown",
   "metadata": {},
   "source": [
    "Two-dimensional sequences: (Exercise 7):"
   ]
  },
  {
   "cell_type": "code",
   "execution_count": 20,
   "metadata": {},
   "outputs": [
    {
     "name": "stdout",
     "output_type": "stream",
     "text": [
      "2\n",
      "[8, 9]\n"
     ]
    }
   ],
   "source": [
    "a = [(1,), (2, 2), (3, 3, 3),]\n",
    "\n",
    "print(a[1][1])\n",
    "\n",
    "b = [list(range(10)),\n",
    "    list(range(10, 20)),\n",
    "    list(range(20, 30)),\n",
    "    list(range(30, 40)),]\n",
    "\n",
    "print(b[0][-2:])"
   ]
  },
  {
   "cell_type": "markdown",
   "metadata": {},
   "source": [
    "Loops: (Exercise 6):"
   ]
  },
  {
   "cell_type": "code",
   "execution_count": 25,
   "metadata": {},
   "outputs": [],
   "source": [
    "while (True):\n",
    "    inputs = int(input(\"Enter an integer:\"))\n",
    "    if inputs == 99:\n",
    "        break\n",
    "    if inputs%2:\n",
    "        continue\n",
    "    print (\"The integer printed is %d\"%inputs)"
   ]
  },
  {
   "cell_type": "code",
   "execution_count": 33,
   "metadata": {},
   "outputs": [
    {
     "name": "stdout",
     "output_type": "stream",
     "text": [
      "Please enter PIN code. In the end, put # to finish PIN code.\n"
     ]
    },
    {
     "name": "stdout",
     "output_type": "stream",
     "text": [
      "Your PIN code is:1234\n"
     ]
    }
   ],
   "source": [
    "print(\"Please enter PIN code. In the end, put # to finish PIN code.\")\n",
    "nums_pin = \"\"\n",
    "while (True):\n",
    "    pin = input(\"Give me number from your PIN code:\")\n",
    "    if pin=='#':\n",
    "        break\n",
    "    nums_pin += pin\n",
    "print(\"Your PIN code is:%s\"%nums_pin)"
   ]
  },
  {
   "cell_type": "code",
   "execution_count": 36,
   "metadata": {},
   "outputs": [
    {
     "name": "stdout",
     "output_type": "stream",
     "text": [
      "Please enter positive integers to be averaged. Enter a negative integer to terminate.\n",
      "average = 3\n"
     ]
    }
   ],
   "source": [
    "print(\"Please enter positive integers to be averaged. Enter a negative integer to terminate.\")\n",
    "nums = []\n",
    "while True:\n",
    "    num_int = int(input(\"Enter a number:\"))\n",
    "    if num_int < 0:\n",
    "        break\n",
    "    nums.append(num_int)\n",
    "average = float(sum(nums))/len(nums)\n",
    "print(\"average = %g\" % average)"
   ]
  },
  {
   "cell_type": "code",
   "execution_count": 40,
   "metadata": {},
   "outputs": [
    {
     "name": "stdout",
     "output_type": "stream",
     "text": [
      "-- Calculator Menu --\n",
      "0. Quit\n",
      "1. Add two numbers\n",
      "2. Subtract two numbers\n",
      "3. Multiply two numbers\n",
      "4. Divide two numbers\n",
      "The result is 3.\n",
      "-- Calculator Menu --\n",
      "0. Quit\n",
      "1. Add two numbers\n",
      "2. Subtract two numbers\n",
      "3. Multiply two numbers\n",
      "4. Divide two numbers\n"
     ]
    }
   ],
   "source": [
    "menu = \"\"\"-- Calculator Menu --\n",
    "0. Quit\n",
    "1. Add two numbers\n",
    "2. Subtract two numbers\n",
    "3. Multiply two numbers\n",
    "4. Divide two numbers\"\"\"\n",
    "\n",
    "select = None\n",
    "\n",
    "while select != 0:\n",
    "    print(menu)\n",
    "    select = int(input(\"Select an option: \"))\n",
    "\n",
    "    if select not in range(5):\n",
    "        print(\"Invalid option: %d\" % select)\n",
    "        continue\n",
    "\n",
    "    if select == 0:\n",
    "        continue\n",
    "\n",
    "    a = float(input(\"Please enter the first number: \"))\n",
    "    b = float(input(\"Please enter the second number: \"))\n",
    "\n",
    "    if select == 1:\n",
    "        res = a + b\n",
    "    elif select == 2:\n",
    "        res = a - b\n",
    "    elif select == 3:\n",
    "        res = a * b\n",
    "    elif select == 4:\n",
    "        res = a / b\n",
    "\n",
    "    print(\"The result is %g.\" % res)"
   ]
  },
  {
   "cell_type": "markdown",
   "metadata": {},
   "source": [
    "Errors and exeptions: (Exercise 2):"
   ]
  },
  {
   "cell_type": "code",
   "execution_count": 41,
   "metadata": {},
   "outputs": [
    {
     "name": "stdout",
     "output_type": "stream",
     "text": [
      "Could not convert age with value 'kar' to type int. Please try again.\n",
      "Could not convert height with value 'tra' to type float. Please try again.\n",
      "Could not convert height with value 'sam' to type float. Please try again.\n",
      "Could not convert height with value '45\\' to type float. Please try again.\n"
     ]
    }
   ],
   "source": [
    "person = {}\n",
    "properties = [(\"name\", str),(\"surname\", str),(\"age\", int),(\"height\", float),(\"weight\", float),]\n",
    "\n",
    "for prop, p_type in properties:\n",
    "    valid_value = None\n",
    "    while valid_value is None:\n",
    "        try:\n",
    "            value = input(\"Please enter your %s: \" % prop)\n",
    "            valid_value = p_type(value)\n",
    "        except ValueError:\n",
    "            print(\"Could not convert %s with value '%s' to type %s. Please try again.\" % (prop, value, p_type.__name__))\n",
    "    person[prop] = valid_value"
   ]
  },
  {
   "cell_type": "code",
   "execution_count": 42,
   "metadata": {},
   "outputs": [],
   "source": [
    "def print_list_element(thelist, index):\n",
    "    try:\n",
    "        print(thelist[index])\n",
    "    except IndexError:\n",
    "        print(\"The list has no element at index %d.\" % index)"
   ]
  },
  {
   "cell_type": "code",
   "execution_count": 43,
   "metadata": {},
   "outputs": [],
   "source": [
    "def add_to_list_in_dict(thedict, listname, element):\n",
    "    try:\n",
    "        l = thedict[listname]\n",
    "    except KeyError:\n",
    "        thedict[listname] = []\n",
    "        print(\"Created %s.\" % listname)\n",
    "    else:\n",
    "        print(\"%s already has %d elements.\" % (listname, len(l)))\n",
    "    finally:\n",
    "        thedict[listname].append(element)\n",
    "        print(\"Added %s to %s.\" % (element, listname))"
   ]
  },
  {
   "cell_type": "markdown",
   "metadata": {},
   "source": [
    "Functions: (Exercise 4):"
   ]
  },
  {
   "cell_type": "code",
   "execution_count": null,
   "metadata": {},
   "outputs": [],
   "source": [
    "import math\n",
    "\n",
    "ADD, SUB, MUL, DIV = range(4)\n",
    "\n",
    "def calculator(a, b, operation=ADD, output_format=float):\n",
    "    if operation == ADD:\n",
    "        result = a + b\n",
    "    elif operation == SUB:\n",
    "        result = a - b\n",
    "    elif operation == MUL:\n",
    "        result = a * b\n",
    "    elif operation == DIV:\n",
    "        result = a / b\n",
    "    else:\n",
    "        raise ValueError(\"Operation must be ADD, SUB, MUL or DIV.\")\n",
    "\n",
    "    if output_format == float:\n",
    "        result = float(result)\n",
    "    elif output_format == int:\n",
    "        result = math.round(result)\n",
    "    else:\n",
    "        raise ValueError(\"Format must be float or int.\")\n",
    "\n",
    "    return result"
   ]
  },
  {
   "cell_type": "markdown",
   "metadata": {},
   "source": [
    "1.5.0, 2.5, 3.0.666666, 4.1"
   ]
  },
  {
   "cell_type": "markdown",
   "metadata": {},
   "source": [
    "Classes: (Exercise 1):\n",
    "\n",
    "1. Person is a class defined in the global scope. It is a global variable.\n",
    "\n",
    "2. person is an instance of the Person class. It is also a global variable.\n",
    "\n",
    "3. surname is a parameter passed into the __init__ method – it is a local variable in the scope if the __init__ method.\n",
    "\n",
    "4. self is a parameter passed into each instance method of the class – it will be replaced by the instance object when the method is called on the object with the . operator. It is a new local variable inside the scope of each of the methods – it just always has the same value, and by convention it is always given the same name to reflect this.\n",
    "\n",
    "5. age is a method of the Person class. It is a local variable in the scope of the class.\n",
    "\n",
    "6. age (the variable used inside the function) is a local variable inside the scope of the age method.\n",
    "\n",
    "7. self.email isn’t really a separate variable. It’s an example of how we can refer to attributes and methods of an object using a variable which refers to the object, the . operator and the name of the attribute or method.\n",
    "\n",
    "8. person.email is another example of the same thing."
   ]
  },
  {
   "cell_type": "markdown",
   "metadata": {},
   "source": [
    "Classes: (Exercise 2):"
   ]
  },
  {
   "cell_type": "code",
   "execution_count": null,
   "metadata": {},
   "outputs": [],
   "source": [
    "import datetime\n",
    "\n",
    "class Person:\n",
    "\n",
    "    def __init__(self, name, surname, birthdate, address, telephone, email):\n",
    "        self.name = name\n",
    "        self.surname = surname\n",
    "        self.birthdate = birthdate\n",
    "        self.address = address\n",
    "        self.telephone = telephone\n",
    "        self.email = email\n",
    "        self.age = None\n",
    "        self.day_recalculated = None\n",
    "        self.recalculate_age()\n",
    "\n",
    "    def recalculate_age(self):\n",
    "        today = datetime.date.today()\n",
    "        age = today.year - self.birthdate.year\n",
    "        if today < datetime.date(today.year, self.birthdate.month, self.birthdate.day):\n",
    "            age -= 1\n",
    "        self.age = age\n",
    "        self.day_recalculated = today\n",
    "\n",
    "    def age(self):\n",
    "        if (datetime.date.today() > self.day_recalculated):\n",
    "            self.recalculate_age()\n",
    "        return self.age"
   ]
  },
  {
   "cell_type": "markdown",
   "metadata": {},
   "source": [
    "Classes: (Exercise 3):"
   ]
  },
  {
   "cell_type": "markdown",
   "metadata": {},
   "source": [
    "Name is always an instance attribute which is set in the constructor, and each class instance can have a different name value. \n",
    "Surname is always a class attribute, and cannot be overridden in the constructor – every instance will have a surname value of Smith. \n",
    "Profession is a class attribute, but it can optionally be overridden by an instance attribute in the constructor. Each instance will have a profession value of Smith unless the optional parameter is passed into the constructor with a different value."
   ]
  },
  {
   "cell_type": "markdown",
   "metadata": {},
   "source": [
    "Classes: (Exercise 4):"
   ]
  },
  {
   "cell_type": "code",
   "execution_count": null,
   "metadata": {},
   "outputs": [],
   "source": [
    "class Numbers:\n",
    "    MULTIPLIER = 2\n",
    "    def  __init__(self, x, y):\n",
    "        self.x = x \n",
    "        self.y = y\n",
    "    def add(self):\n",
    "        return self.x + self.y\n",
    "    @classmethod\n",
    "    def multiply(cls, a):\n",
    "        return cls.MULTIPLIER * a\n",
    "    @staticmethod\n",
    "    def subtract(b, c):\n",
    "        return b - c\n",
    "    @property\n",
    "    def value(self):\n",
    "        return (self.x, self.y)\n",
    "    @value.setter\n",
    "    def value(self, xy_tuple):\n",
    "        self.x, self.y = xy_tuple\n",
    "    @value.deleter\n",
    "    def value(self):\n",
    "        del self.x\n",
    "        del self.y"
   ]
  },
  {
   "cell_type": "markdown",
   "metadata": {},
   "source": [
    "Classes: (Exercise 5):"
   ]
  },
  {
   "cell_type": "code",
   "execution_count": 23,
   "metadata": {},
   "outputs": [
    {
     "name": "stdout",
     "output_type": "stream",
     "text": [
      "Direct call to __str__ method: <__main__.Person object at 0x000002C0AD54A710>\n"
     ]
    }
   ],
   "source": [
    "# Create an instance of Person\n",
    "person_instance = Person(\"John\", \"Doe\")\n",
    "# Call the __str__ method directly\n",
    "direct_str = person_instance.__str__()\n",
    "print(\"Direct call to __str__ method:\", direct_str)"
   ]
  },
  {
   "cell_type": "markdown",
   "metadata": {},
   "source": [
    "1. You see this: '<__main__.Person object at 0x000002C0AD54A710>'.\n",
    "\n",
    "2. <class '__main__.Person'> – __main__ is Python’s name for the program you are executing.\n",
    "\n",
    "3. <class 'type'> – the type of the class is type."
   ]
  },
  {
   "cell_type": "code",
   "execution_count": 24,
   "metadata": {},
   "outputs": [],
   "source": [
    "def print_obj_atr(any_object):\n",
    "    for k, v in any_object.__dict__.items():\n",
    "        print(\"%s: %s\" % (k, v))"
   ]
  },
  {
   "cell_type": "markdown",
   "metadata": {},
   "source": [
    "Classes: (Exercise 6):"
   ]
  },
  {
   "cell_type": "code",
   "execution_count": null,
   "metadata": {},
   "outputs": [],
   "source": [
    "class SomeClass:\n",
    "    def __init__(self, **kwargs):\n",
    "        for k, v in kwargs.items():\n",
    "            setattr(self, k, v)\n",
    "\n",
    "    def __str__(self):\n",
    "        at = [\"%s=%s\" % (k, v) for (k, v) in self.__dict__.items()]\n",
    "        classname = self.__class__.__name__\n",
    "        return \"%s: %s\" % (classname, \" \".join(at))"
   ]
  }
 ],
 "metadata": {
  "kernelspec": {
   "display_name": "base",
   "language": "python",
   "name": "python3"
  },
  "language_info": {
   "codemirror_mode": {
    "name": "ipython",
    "version": 3
   },
   "file_extension": ".py",
   "mimetype": "text/x-python",
   "name": "python",
   "nbconvert_exporter": "python",
   "pygments_lexer": "ipython3",
   "version": "3.11.7"
  }
 },
 "nbformat": 4,
 "nbformat_minor": 2
}
