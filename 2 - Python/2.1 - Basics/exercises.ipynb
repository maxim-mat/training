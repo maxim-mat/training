{
 "cells": [
  {
   "cell_type": "markdown",
   "source": [
    "# Collections\n",
    "\n",
    "## Exercise 1\n",
    "1. Create a list a which contains the first three odd positive integers and a list b which contains the first three even positive integers.\n",
    "\n",
    "2. Create a new list c which combines the numbers from both lists (order is unimportant).\n",
    "\n",
    "3. Create a new list d which is a sorted copy of c, leaving c unchanged.\n",
    "\n",
    "4. Reverse d in-place.\n",
    "\n",
    "5. Set the fourth element of c to 42.\n",
    "\n",
    "6. Append 10 to the end of d.\n",
    "\n",
    "7. Append 7, 8 and 9 to the end of c.\n",
    "\n",
    "8. Print the first three elements of c.\n",
    "\n",
    "9. Print the last element of d without using its length.\n",
    "\n",
    "10. Print the length of d."
   ],
   "metadata": {
    "collapsed": false
   },
   "id": "2fdb7decf4ff4e31"
  },
  {
   "cell_type": "code",
   "execution_count": null,
   "outputs": [],
   "source": [],
   "metadata": {
    "collapsed": false
   },
   "id": "5204dae541e6d530"
  },
  {
   "cell_type": "markdown",
   "source": [
    "## Exercise 2\n",
    "\n",
    "1. Create a tuple a which contains the first four positive integers and a tuple b which contains the next four positive integers.\n",
    "\n",
    "2. Create a tuple c which combines all the numbers from a and b in any order.\n",
    "\n",
    "3. Create a tuple d which is a sorted copy of c.\n",
    "\n",
    "4. Print the third element of d.\n",
    "\n",
    "5. Print the last three elements of d without using its length.\n",
    "\n",
    "6. Print the length of d."
   ],
   "metadata": {
    "collapsed": false
   },
   "id": "a2067bd5fda1cb75"
  },
  {
   "cell_type": "code",
   "execution_count": null,
   "outputs": [],
   "source": [],
   "metadata": {
    "collapsed": false
   },
   "id": "21f43390a7e522a"
  },
  {
   "cell_type": "markdown",
   "source": [
    "## Exercise 3\n",
    "\n",
    "1. Create a set a which contains the first four positive integers and a set b which contains the first four odd positive integers.\n",
    "\n",
    "2. Create a set c which combines all the numbers which are in a or b (or both).\n",
    "\n",
    "3. Create a set d which contains all the numbers in a but not in b.\n",
    "\n",
    "4. Create a set e which contains all the numbers in b but not in a.\n",
    "\n",
    "5. Create a set f which contains all the numbers which are both in a and in b.\n",
    "\n",
    "6. Create a set g which contains all the numbers which are either in a or in b but not in both.\n",
    "\n",
    "7. Print the number of elements in c."
   ],
   "metadata": {
    "collapsed": false
   },
   "id": "7006822d7cf85ed1"
  },
  {
   "cell_type": "code",
   "execution_count": null,
   "outputs": [],
   "source": [],
   "metadata": {
    "collapsed": false
   },
   "id": "f7a9190ee615124f"
  },
  {
   "cell_type": "markdown",
   "source": [
    "## Exercise 4\n",
    "\n",
    "1. Create a range a which starts from 0 and goes on for 20 numbers.\n",
    "\n",
    "2. Create a range b which starts from 3 and ends on 12.\n",
    "\n",
    "3. Create a range c which contains every third integer starting from 2 and ending at 50."
   ],
   "metadata": {
    "collapsed": false
   },
   "id": "a82fd1ee8f7c8d89"
  },
  {
   "cell_type": "code",
   "execution_count": null,
   "outputs": [],
   "source": [],
   "metadata": {
    "collapsed": false
   },
   "id": "793183cd596cd38b"
  },
  {
   "cell_type": "markdown",
   "source": [
    "## Exercise 5\n",
    "\n",
    "1. Create a dict directory which stores telephone numbers (as string values), and populate it with these key-value pairs:\n",
    "\n",
    "2. Change Jane’s number to +27 555 1024\n",
    "\n",
    "3. Add a new entry for a person called Anna Cooper with the phone number +27 555 3237\n",
    "\n",
    "4. Print Bob’s number.\n",
    "\n",
    "5. Print Bob’s number in such a way that None would be printed if Bob’s name were not in the dictionary.\n",
    "\n",
    "6. Print all the keys. The format is unimportant, as long as they’re all visible.\n",
    "\n",
    "7. Print all the values."
   ],
   "metadata": {
    "collapsed": false
   },
   "id": "7a850e57d8f0ad68"
  },
  {
   "cell_type": "code",
   "execution_count": null,
   "outputs": [],
   "source": [],
   "metadata": {
    "collapsed": false
   },
   "id": "e4c5fecf2d50db7e"
  },
  {
   "cell_type": "markdown",
   "source": [
    "## Exercise 6\n",
    "\n",
    "1. Convert a list which contains the numbers 1, 1, 2, 3 and 3, and convert it to a tuple a.\n",
    "\n",
    "2. Convert a to a list b. Print its length.\n",
    "\n",
    "3. Convert b to a set c. Print its length.\n",
    "\n",
    "4. Convert c to a list d. Print its length.\n",
    "\n",
    "5. Create a range which starts at 1 and ends at 10. Convert it to a list e.\n",
    "\n",
    "6. Create the directory dict from the previous example. Create a list t which contains all the key-value pairs from the dictionary as tuples.\n",
    "\n",
    "7. Create a list v of all the values in the dictionary.\n",
    "\n",
    "8. Create a list k of all the keys in he dictionary.\n",
    "\n",
    "9. Create a string s which contains the word \"antidisestablishmentarianism\". Use the sorted function on it. What is the output type? Concatenate the letters in the output to a string s2.\n",
    "\n",
    "10. Split the string \"the quick brown fox jumped over the lazy dog\" into a list w of individual words."
   ],
   "metadata": {
    "collapsed": false
   },
   "id": "54b4ce5dda8c994b"
  },
  {
   "cell_type": "code",
   "execution_count": null,
   "outputs": [],
   "source": [],
   "metadata": {
    "collapsed": false
   },
   "id": "66425758e10c4654"
  }
 ],
 "metadata": {
  "kernelspec": {
   "display_name": "Python 3",
   "language": "python",
   "name": "python3"
  },
  "language_info": {
   "codemirror_mode": {
    "name": "ipython",
    "version": 2
   },
   "file_extension": ".py",
   "mimetype": "text/x-python",
   "name": "python",
   "nbconvert_exporter": "python",
   "pygments_lexer": "ipython2",
   "version": "2.7.6"
  }
 },
 "nbformat": 4,
 "nbformat_minor": 5
}
